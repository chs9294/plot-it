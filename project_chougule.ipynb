{
 "cells": [
  {
   "cell_type": "code",
   "execution_count": 3,
   "metadata": {
    "collapsed": false
   },
   "outputs": [
    {
     "name": "stdout",
     "output_type": "stream",
     "text": [
      "Writing __main__.py\n"
     ]
    }
   ],
   "source": [
    "%%writefile __main__.py\n",
    "#!/usr/bin/env pythonw\n",
    "from numpy import arange, sin, pi, exp, log\n",
    "import numpy as np\n",
    "from matplotlib.backends.backend_wxagg import FigureCanvasWxAgg as FigureCanvas\n",
    "import matplotlib.pyplot as plt\n",
    "import wx\n",
    "class MyFrame(wx.Frame):\n",
    "        \"\"\"We simply derive a new class of frame\"\"\"\n",
    "        def __init__(self, parent, title):\n",
    "            wx.Frame.__init__(self, parent, title=title, size=(100,100))\n",
    "            #self.control = wx.TextCtrl(self, style=wx.TE_MULTILINE)\n",
    "            self.CreateStatusBar() #A statusbar at the bottom of the window\n",
    "            self.figure = plt.figure()\n",
    "            self.canvas = FigureCanvas(self, -1, self.figure)\n",
    "            \n",
    "            # setting up the menu.\n",
    "            filemenu= wx.Menu()\n",
    "            \n",
    "            # wx.ID_ABOUT and wx.ID_EXIT are standard IDs provided by wxWidgets\n",
    "            # give names to the following things\n",
    "            menuAbout = filemenu.Append(wx.ID_ABOUT, \"&About\",\" Information about this program\")\n",
    "            filemenu.AppendSeparator()\n",
    "            menuExit = filemenu.Append(wx.ID_EDIT, \"&Exit\",\" Terminate the program\")\n",
    "            \n",
    "            # Creating the menubar\n",
    "            menuBar = wx.MenuBar()\n",
    "            menuBar.Append(filemenu, \"&File\") # adding the \"filename\" to the...\n",
    "            self.SetMenuBar(menuBar) # Adding the MenuBar for the Frame content\n",
    "            \n",
    "            #New code beings here:\n",
    "            #set events:\n",
    "            self.Bind(wx.EVT_MENU, self.OnAbout, menuAbout)\n",
    "            self.Bind(wx.EVT_MENU, self.OnExit, menuExit)\n",
    "            self.Show(True)\n",
    "        \n",
    "            # New code here:\n",
    "            \n",
    "            self.sizer2 = wx.BoxSizer(wx.VERTICAL) # stack the buttons in a vetical way\n",
    "            self.sizer = wx.BoxSizer(wx.HORIZONTAL)\n",
    "            self.buttons = []\n",
    "            self.xlims = np.array([0.1,3])\n",
    "            \n",
    "            names = [\"SELECT RANGE\",\"sin(x)\", \"logx\", \"exp(x)\",]\n",
    "            \n",
    "            for i in range(0,4):  # this command adds the buttons\n",
    "                    self.buttons.append(wx.Button(self, -1, names[i]))\n",
    "                    self.sizer2.Add(self.buttons[i], 1, wx.SHAPED, wx.ALIGN_RIGHT) \n",
    "            #Bind the buttons to the event\n",
    "            self.Bind(wx.EVT_BUTTON, self.functionname, self.buttons[1])\n",
    "            self.Bind(wx.EVT_BUTTON, self.functionname1, self.buttons[3])\n",
    "            self.Bind(wx.EVT_BUTTON, self.functionname2, self.buttons[2])\n",
    "            self.Bind(wx.EVT_BUTTON, self.funcxlims, self.buttons[0])\n",
    "            #use some sizers to see layout options\n",
    "        \n",
    "            self.sizer.Add(self.sizer2, 0, wx.SHAPED) # the box where the buttons go\n",
    "            self.sizer.Add(self.sizer2, 0, wx.ALIGN_TOP)\n",
    "            self.sizer.Add(self.canvas, 1, wx.EXPAND)# adjust the canvas\n",
    "        \n",
    "            #Layout sizers\n",
    "            self.SetSizer(self.sizer)\n",
    "            self.sizer.Fit(self)\n",
    "            self.Show(True)\n",
    "            \n",
    "        #add our new functions:\n",
    "        def functionname(self,event):\n",
    "            #ax.cla()\n",
    "            ax = self.figure.add_subplot(111)\n",
    "            t = arange(self.xlims[0],self.xlims[1],0.01)\n",
    "            s = sin(2*pi*t)\n",
    "            ax.plot(t,s)\n",
    "            self.canvas.draw()\n",
    "            ax.clear()\n",
    "        def functionname1(self,event):\n",
    "            ax = self.figure.add_subplot(111)\n",
    "            t1 = arange(self.xlims[0],self.xlims[1],0.01)\n",
    "            s1 = exp(t1)\n",
    "            ax.plot(t1,s1)\n",
    "            self.canvas.draw()\n",
    "            ax.clear()\n",
    "        def functionname2(self,event):\n",
    "            ax = self.figure.add_subplot(111)\n",
    "            if self.xlims[0]<1e-6:\n",
    "                dlg = wx.MessageDialog( self, \"log can't be less than or equal to zero\", \"Error message:\", wx.OK)\n",
    "                dlg.ShowModal() # Show it\n",
    "                dlg.Destroy() # finally destroy it when finished.\n",
    "            else:\n",
    "                t2 = arange(self.xlims[0],self.xlims[1],0.01)\n",
    "                s2 = log(t2)\n",
    "                ax.plot(t2,s2)\n",
    "                self.canvas.draw()\n",
    "                ax.clear()\n",
    "        \n",
    "        def OnAbout(self,e):\n",
    "            # A message dialog box with an OK button, wx.OK is a standard ID\n",
    "            dlg = wx.MessageDialog(self,\"Plot functions\",\"PLOT IT\", wx.OK)\n",
    "            dlg.ShowModal() #show it\n",
    "            dlg.Destroy() # destroy it when finished\n",
    "        \n",
    "        def OnExit(self,e):\n",
    "            self.Close(True) # close the frame\n",
    "        def funcxlims(self,e):\n",
    "            xlimbox = wx.TextEntryDialog(None, 'xlimits', 'Please select Xrange as xmin,xmax eg 1,2')\n",
    "            if xlimbox.ShowModal() == wx.ID_OK:\n",
    "                x_lims = str(xlimbox.GetValue())\n",
    "                x_lims = x_lims.split(',')\n",
    "                xmin = float(x_lims[0])\n",
    "                xmax = float(x_lims[1])\n",
    "                self.xlims = np.array([xmin,xmax])\n",
    "            \n",
    "app = wx.App(False)\n",
    "frame = MyFrame(None, 'PLOT IT')\n",
    "app.MainLoop()"
   ]
  },
  {
   "cell_type": "code",
   "execution_count": 4,
   "metadata": {
    "collapsed": false
   },
   "outputs": [],
   "source": [
    "!python __main__.py"
   ]
  },
  {
   "cell_type": "code",
   "execution_count": null,
   "metadata": {
    "collapsed": true
   },
   "outputs": [],
   "source": []
  }
 ],
 "metadata": {
  "anaconda-cloud": {},
  "kernelspec": {
   "display_name": "Python [conda root]",
   "language": "python",
   "name": "conda-root-py"
  },
  "language_info": {
   "codemirror_mode": {
    "name": "ipython",
    "version": 2
   },
   "file_extension": ".py",
   "mimetype": "text/x-python",
   "name": "python",
   "nbconvert_exporter": "python",
   "pygments_lexer": "ipython2",
   "version": "2.7.12"
  }
 },
 "nbformat": 4,
 "nbformat_minor": 1
}
