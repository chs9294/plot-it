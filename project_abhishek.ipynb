{
 "cells": [
  {
   "cell_type": "code",
   "execution_count": 1,
   "metadata": {
    "collapsed": false
   },
   "outputs": [
    {
     "name": "stdout",
     "output_type": "stream",
     "text": [
      "Overwriting framecode.py\n"
     ]
    }
   ],
   "source": [
    "%%writefile framecode.py\n",
    "#!/usr/bin/env pythonw                            #!/usr/bin/env python on linux\n",
    "import wx\n",
    "\n",
    "app = wx.App(False)                               #create a new app, don't redirect stdout/stderr to\n",
    "frame = wx.Frame(None, wx.ID_ANY, \"Hello World\")  # A frame is the top-level\n",
    "frame.Show(True)                                  #Show the frame\n",
    "app.MainLoop()"
   ]
  },
  {
   "cell_type": "code",
   "execution_count": 4,
   "metadata": {
    "collapsed": false
   },
   "outputs": [],
   "source": [
    "!python framecode.py  "
   ]
  },
  {
   "cell_type": "code",
   "execution_count": 5,
   "metadata": {
    "collapsed": false
   },
   "outputs": [
    {
     "name": "stdout",
     "output_type": "stream",
     "text": [
      "Overwriting editor.py\n"
     ]
    }
   ],
   "source": [
    "%%writefile editor.py\n",
    "#!/usr/bin/env pythonw\n",
    "import wx\n",
    "class MyFrame(wx.Frame):\n",
    "        \"\"\"We simply derive a new class of frame\"\"\"\n",
    "        def __init__(self, parent, title):\n",
    "            wx.Frame.__init__(self, parent, title=title, size=(200,100))\n",
    "            self.control = wx.TextCtrl(self, style=wx.TE_MULTILINE)\n",
    "            self.Show(True)\n",
    "            \n",
    "app = wx.App(False)\n",
    "frame = MyFrame(None, 'Small editor')\n",
    "app.MainLoop() "
   ]
  },
  {
   "cell_type": "code",
   "execution_count": 30,
   "metadata": {
    "collapsed": false
   },
   "outputs": [],
   "source": [
    "!python editor.py"
   ]
  },
  {
   "cell_type": "code",
   "execution_count": 44,
   "metadata": {
    "collapsed": false
   },
   "outputs": [
    {
     "name": "stdout",
     "output_type": "stream",
     "text": [
      "Overwriting MainWindow.py\n"
     ]
    }
   ],
   "source": [
    "%%writefile MainWindow.py\n",
    "#!/usr/bin/env pythonw\n",
    "import wx\n",
    "class MyFrame(wx.Frame):\n",
    "        \"\"\"We simply derive a new class of frame\"\"\"\n",
    "        def __init__(self, parent, title):\n",
    "            wx.Frame.__init__(self, parent, title=title, size=(500,500))\n",
    "            self.control = wx.TextCtrl(self, style=wx.TE_MULTILINE)\n",
    "            self.CreateStatusBar() #A statusbar at the bottom of the window\n",
    "            \n",
    "            # setting up the menu.\n",
    "            filemenu= wx.Menu()\n",
    "            filemenu2=wx.Menu()\n",
    "            \n",
    "            # wx.ID_ABOUT and wx.ID_EXIT are standard IDs provided by wxWidgets\n",
    "            filemenu.Append(wx.ID_ABOUT, \"&About\",\" Information about this program\")\n",
    "            filemenu.AppendSeparator()\n",
    "            \n",
    "            filemenu.Append(wx.ID_UNDO, \"&Undo\",\" Revert Changes\" )\n",
    "            filemenu.Append(wx.ID_REDO,\"&Redo\",\"Do it again\")\n",
    "            filemenu.Append(wx.ID_EXIT,\"&Exit\",\" Terminate the program\")\n",
    "            \n",
    "            \n",
    "            # Creating the menubar\n",
    "            menuBar = wx.MenuBar()\n",
    "            menuBar.Append(filemenu, \"&File\") # adding the \"filename\" to the...\n",
    "\n",
    "            self.SetMenuBar(menuBar) # Adding the MenuBar for the Frame content\n",
    "            self.Show(True)\n",
    "            \n",
    "app = wx.App(False)\n",
    "frame = MyFrame(None, 'Plot it')\n",
    "app.MainLoop()"
   ]
  },
  {
   "cell_type": "code",
   "execution_count": null,
   "metadata": {
    "collapsed": false
   },
   "outputs": [],
   "source": [
    "!python MainWindow.py"
   ]
  },
  {
   "cell_type": "code",
   "execution_count": null,
   "metadata": {
    "collapsed": true
   },
   "outputs": [],
   "source": []
  }
 ],
 "metadata": {
  "kernelspec": {
   "display_name": "Python [conda root]",
   "language": "python",
   "name": "conda-root-py"
  },
  "language_info": {
   "codemirror_mode": {
    "name": "ipython",
    "version": 2
   },
   "file_extension": ".py",
   "mimetype": "text/x-python",
   "name": "python",
   "nbconvert_exporter": "python",
   "pygments_lexer": "ipython2",
   "version": "2.7.12"
  }
 },
 "nbformat": 4,
 "nbformat_minor": 1
}
